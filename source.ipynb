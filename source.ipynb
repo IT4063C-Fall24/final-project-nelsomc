{
 "cells": [
  {
   "attachments": {},
   "cell_type": "markdown",
   "metadata": {},
   "source": [
    "# {Project Title}📝\n",
    "\n",
    "![Banner](./assets/banner.jpeg)"
   ]
  },
  {
   "attachments": {},
   "cell_type": "markdown",
   "metadata": {},
   "source": [
    "## Topic\n",
    "*What problem are you (or your stakeholder) trying to address?*\n",
    "📝 <!-- Answer Below -->\n",
    "\n",
    "Some college football teams/programs are known for winning all the time. What is the difference between these teams and teams that do not."
   ]
  },
  {
   "attachments": {},
   "cell_type": "markdown",
   "metadata": {},
   "source": [
    "## Project Question\n",
    "*What specific question are you seeking to answer with this project?*\n",
    "*This is not the same as the questions you ask to limit the scope of the project.*\n",
    "📝 <!-- Answer Below -->\n",
    "\n",
    "How do college football dynasties happen? What gives a college football team the edge to win? Are there certain factors that great teams have that help them win?"
   ]
  },
  {
   "attachments": {},
   "cell_type": "markdown",
   "metadata": {},
   "source": [
    "## What would an answer look like?\n",
    "*What is your hypothesized answer to your question?*\n",
    "📝 <!-- Answer Below -->\n",
    "\n",
    "The answers could be anywhere from ability to recruit, if it was just straight ability to coach, could it be location and weather, and so on. As for graphics it will be charts that can describe different aspects of the game and give percentages and numbers back showing different things including win probability."
   ]
  },
  {
   "attachments": {},
   "cell_type": "markdown",
   "metadata": {},
   "source": [
    "## Data Sources\n",
    "*What 3 data sources have you identified for this project?*\n",
    "*How are you going to relate these datasets?*\n",
    "📝 <!-- Answer Below -->\n",
    "\n",
    "I found a great website that allows you to query for data and download csv files. I have also found a dataset on Kaggle. I am also going to use Pro Football Focus' (PFF) data."
   ]
  },
  {
   "attachments": {},
   "cell_type": "markdown",
   "metadata": {},
   "source": [
    "## Approach and Analysis\n",
    "*What is your approach to answering your project question?*\n",
    "*How will you use the identified data to answer your project question?*\n",
    "📝 <!-- Start Discussing the project here; you can add as many code cells as you need -->\n",
    "\n",
    "Working for the team here at UC gives me excellent resources and I am going to start with finding data I think I will need. I have a meeting scheduled with the guy who is in charge of the teams analytics about what he does and where he finds his data and how he uses it."
   ]
  },
  {
   "cell_type": "code",
   "execution_count": 1,
   "metadata": {},
   "outputs": [
    {
     "name": "stdout",
     "output_type": "stream",
     "text": [
      "Dataset URL: https://www.kaggle.com/datasets/jeffgallini/college-football-team-stats-2019\n",
      "Downloading college-football-team-stats-2019.zip to ./data\\college-football-team-stats-2019\n"
     ]
    },
    {
     "name": "stderr",
     "output_type": "stream",
     "text": [
      "100%|██████████| 585k/585k [00:00<00:00, 6.02MB/s]"
     ]
    },
    {
     "name": "stdout",
     "output_type": "stream",
     "text": [
      "\n"
     ]
    },
    {
     "name": "stderr",
     "output_type": "stream",
     "text": [
      "\n"
     ]
    }
   ],
   "source": [
    "# Start your code here\n",
    "import opendatasets as od\n",
    "import pandas as pd\n",
    "\n",
    "od.download('https://www.kaggle.com/datasets/jeffgallini/college-football-team-stats-2019', './data')"
   ]
  },
  {
   "cell_type": "code",
   "execution_count": 5,
   "metadata": {},
   "outputs": [
    {
     "name": "stdout",
     "output_type": "stream",
     "text": [
      "   Year  TeamId        Team         Conference Division  ExpectedWins  \\\n",
      "0  2015    2132  Cincinnati  American Athletic     East           8.3   \n",
      "1  2006    2132  Cincinnati           Big East      NaN           0.0   \n",
      "2  1954    2132  Cincinnati   FBS Independents      NaN           0.0   \n",
      "3  1982    2132  Cincinnati   FBS Independents      NaN           0.0   \n",
      "4  1965    2132  Cincinnati    Missouri Valley      NaN           0.0   \n",
      "\n",
      "   Total Games  Total Wins  Total Losses  Total Ties  ...  \\\n",
      "0           13           7             6           0  ...   \n",
      "1           13           8             5           0  ...   \n",
      "2           10           8             2           0  ...   \n",
      "3           11           6             5           0  ...   \n",
      "4           10           5             5           0  ...   \n",
      "\n",
      "   ConferenceGames Losses  ConferenceGames Ties  HomeGames Games  \\\n",
      "0                       4                     0                6   \n",
      "1                       3                     0                8   \n",
      "2                       0                     0                7   \n",
      "3                       4                     0                5   \n",
      "4                       2                     0                6   \n",
      "\n",
      "   HomeGames Wins  HomeGames Losses  HomeGames Ties  AwayGames Games  \\\n",
      "0               5                 1               0                6   \n",
      "1               7                 1               0                5   \n",
      "2               5                 2               0                3   \n",
      "3               5                 0               0                6   \n",
      "4               3                 3               0                4   \n",
      "\n",
      "   AwayGames Wins  AwayGames Losses  AwayGames Ties  \n",
      "0               2                 4               0  \n",
      "1               1                 4               0  \n",
      "2               3                 0               0  \n",
      "3               1                 5               0  \n",
      "4               2                 2               0  \n",
      "\n",
      "[5 rows x 22 columns]\n"
     ]
    }
   ],
   "source": [
    "import pandas as pd\n",
    "\n",
    "\n",
    "df = pd.read_csv('Data/Data1.csv')\n",
    "\n",
    "\n",
    "\n",
    "print(df.head())"
   ]
  },
  {
   "cell_type": "code",
   "execution_count": 6,
   "metadata": {},
   "outputs": [
    {
     "name": "stdout",
     "output_type": "stream",
     "text": [
      "   Year  Rank        Team  Points\n",
      "0  2000    44  Cincinnati    0.00\n",
      "1  2001    51  Cincinnati    0.00\n",
      "2  2002    76  Cincinnati   87.58\n",
      "3  2003    96  Cincinnati   82.93\n",
      "4  2004   104  Cincinnati   72.99\n"
     ]
    }
   ],
   "source": [
    "import pandas as pd\n",
    "\n",
    "\n",
    "df = pd.read_csv('Data/Recruiting.csv')\n",
    "\n",
    "\n",
    "\n",
    "print(df.head())"
   ]
  },
  {
   "attachments": {},
   "cell_type": "markdown",
   "metadata": {},
   "source": [
    "## Resources and References\n",
    "*What resources and references have you used for this project?*\n",
    "📝 <!-- Answer Below -->"
   ]
  },
  {
   "cell_type": "code",
   "execution_count": 7,
   "metadata": {},
   "outputs": [
    {
     "name": "stderr",
     "output_type": "stream",
     "text": [
      "[NbConvertApp] Converting notebook source.ipynb to python\n",
      "[NbConvertApp] Writing 1261 bytes to source.py\n"
     ]
    }
   ],
   "source": [
    "# ⚠️ Make sure you run this cell at the end of your notebook before every submission!\n",
    "!jupyter nbconvert --to python source.ipynb"
   ]
  }
 ],
 "metadata": {
  "kernelspec": {
   "display_name": "DataTechProgramming",
   "language": "python",
   "name": "python3"
  },
  "language_info": {
   "codemirror_mode": {
    "name": "ipython",
    "version": 3
   },
   "file_extension": ".py",
   "mimetype": "text/x-python",
   "name": "python",
   "nbconvert_exporter": "python",
   "pygments_lexer": "ipython3",
   "version": "3.11.4"
  },
  "orig_nbformat": 4
 },
 "nbformat": 4,
 "nbformat_minor": 2
}
